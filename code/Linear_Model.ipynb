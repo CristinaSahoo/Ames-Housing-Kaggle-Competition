{
 "cells": [
  {
   "cell_type": "code",
   "execution_count": 265,
   "metadata": {},
   "outputs": [],
   "source": [
    "import pandas as pd\n",
    "import numpy as np\n",
    "import matplotlib.pyplot as plt\n",
    "import seaborn as sns\n",
    "from sklearn.model_selection import train_test_split, cross_val_score\n",
    "from sklearn.linear_model import LinearRegression\n",
    "from sklearn.preprocessing import StandardScaler, PolynomialFeatures\n",
    "from sklearn import metrics"
   ]
  },
  {
   "cell_type": "code",
   "execution_count": 266,
   "metadata": {},
   "outputs": [],
   "source": [
    "%run functions.py"
   ]
  },
  {
   "cell_type": "code",
   "execution_count": 267,
   "metadata": {},
   "outputs": [],
   "source": [
    "df_train_clean = pd.read_csv('../data/train_clean.csv')\n",
    "df_test_clean = pd.read_csv('../data/test_clean.csv')\n",
    "pd.set_option('display.max_columns', None)\n",
    "pd.set_option('display.max_rows', None)"
   ]
  },
  {
   "cell_type": "markdown",
   "metadata": {},
   "source": [
    "## Linear Regression Model"
   ]
  },
  {
   "cell_type": "markdown",
   "metadata": {},
   "source": [
    "Define feature matrix X and target vector y."
   ]
  },
  {
   "cell_type": "code",
   "execution_count": 268,
   "metadata": {},
   "outputs": [
    {
     "data": {
      "text/plain": [
       "Index(['ms_zoning', 'lot_area', 'condition_1', 'overall_qual', 'overall_cond',\n",
       "       'year_built', 'year_remod/add', 'exter_qual', 'exter_cond', 'bsmt_qual',\n",
       "       'bsmt_cond', 'bsmt_unf_sf', 'total_bsmt_sf', 'central_air',\n",
       "       '1st_flr_sf', 'gr_liv_area', 'full_bath', 'bedroom_abvgr',\n",
       "       'kitchen_abvgr', 'kitchen_qual', 'fireplaces', 'garage_cars',\n",
       "       'garage_area', 'garage_qual', 'garage_cond', 'paved_drive', 'yr_sold',\n",
       "       'age', 'quality', 'remod', 'bsmt_rating', 'bsmt_sf'],\n",
       "      dtype='object')"
      ]
     },
     "execution_count": 268,
     "metadata": {},
     "output_type": "execute_result"
    }
   ],
   "source": [
    "features = df_train_clean.columns.drop('saleprice')\n",
    "features"
   ]
  },
  {
   "cell_type": "code",
   "execution_count": 269,
   "metadata": {},
   "outputs": [
    {
     "data": {
      "text/plain": [
       "Index(['ms_zoning', 'lot_area', 'condition_1', 'overall_qual', 'overall_cond',\n",
       "       'year_remod/add', 'exter_qual', 'exter_cond', 'bsmt_qual', 'bsmt_cond',\n",
       "       'bsmt_unf_sf', 'total_bsmt_sf', 'central_air', '1st_flr_sf',\n",
       "       'gr_liv_area', 'full_bath', 'bedroom_abvgr', 'kitchen_abvgr',\n",
       "       'kitchen_qual', 'fireplaces', 'garage_cars', 'garage_area',\n",
       "       'garage_qual', 'garage_cond', 'paved_drive', 'age', 'quality', 'remod',\n",
       "       'bsmt_rating', 'bsmt_sf'],\n",
       "      dtype='object')"
      ]
     },
     "execution_count": 269,
     "metadata": {},
     "output_type": "execute_result"
    }
   ],
   "source": [
    "features = df_train_clean.columns.drop(['saleprice', 'yr_sold', 'year_built'])\n",
    "features"
   ]
  },
  {
   "cell_type": "code",
   "execution_count": 270,
   "metadata": {},
   "outputs": [],
   "source": [
    "X = df_train_clean[features].copy()\n",
    "y = df_train_clean['saleprice']"
   ]
  },
  {
   "cell_type": "markdown",
   "metadata": {},
   "source": [
    "Split the data into train data and test data."
   ]
  },
  {
   "cell_type": "code",
   "execution_count": 271,
   "metadata": {},
   "outputs": [],
   "source": [
    "X_train, X_test, y_train, y_test = train_test_split (X, y, random_state=42)"
   ]
  },
  {
   "cell_type": "markdown",
   "metadata": {},
   "source": [
    "Instantiate the linear regression model."
   ]
  },
  {
   "cell_type": "code",
   "execution_count": 272,
   "metadata": {},
   "outputs": [],
   "source": [
    "model = LinearRegression()"
   ]
  },
  {
   "cell_type": "markdown",
   "metadata": {},
   "source": [
    "Fit the model over the train data X_train and y_train."
   ]
  },
  {
   "cell_type": "code",
   "execution_count": 273,
   "metadata": {},
   "outputs": [
    {
     "data": {
      "text/plain": [
       "LinearRegression()"
      ]
     },
     "execution_count": 273,
     "metadata": {},
     "output_type": "execute_result"
    }
   ],
   "source": [
    "model.fit(X_train, y_train)"
   ]
  },
  {
   "cell_type": "markdown",
   "metadata": {},
   "source": [
    "Predict the SalePrice using the test data."
   ]
  },
  {
   "cell_type": "code",
   "execution_count": 274,
   "metadata": {},
   "outputs": [],
   "source": [
    "y_pred = model.predict(X_test)"
   ]
  },
  {
   "cell_type": "markdown",
   "metadata": {},
   "source": [
    "Evaluate the model.  \n",
    "Calculate the Training score, Test score, and Baseline score."
   ]
  },
  {
   "cell_type": "code",
   "execution_count": 275,
   "metadata": {},
   "outputs": [
    {
     "name": "stdout",
     "output_type": "stream",
     "text": [
      "Train score  0.81449120131137\n",
      "Test score   0.8475979373112059\n",
      "Baseline     0.7617469339345273\n"
     ]
    }
   ],
   "source": [
    "calc_scores(model, X_train, y_train, X_test, y_test)"
   ]
  },
  {
   "cell_type": "code",
   "execution_count": 276,
   "metadata": {},
   "outputs": [],
   "source": [
    "resids = y_test - y_pred"
   ]
  },
  {
   "cell_type": "code",
   "execution_count": 277,
   "metadata": {},
   "outputs": [
    {
     "data": {
      "image/png": "[encoded data removed]",
      "text/plain": [
       "<Figure size 432x288 with 1 Axes>"
      ]
     },
     "metadata": {
      "needs_background": "light"
     },
     "output_type": "display_data"
    }
   ],
   "source": [
    "resids.hist(grid=False);\n",
    "plt.axvline (0, color='red');"
   ]
  },
  {
   "cell_type": "code",
   "execution_count": 278,
   "metadata": {},
   "outputs": [
    {
     "data": {
      "image/png": "[encoded data removed]",
      "text/plain": [
       "<Figure size 432x288 with 1 Axes>"
      ]
     },
     "metadata": {
      "needs_background": "light"
     },
     "output_type": "display_data"
    }
   ],
   "source": [
    "plt.scatter(y_pred, resids)\n",
    "plt.axhline(0, color='r');"
   ]
  },
  {
   "cell_type": "code",
   "execution_count": 279,
   "metadata": {},
   "outputs": [
    {
     "name": "stdout",
     "output_type": "stream",
     "text": [
      "RMSE 32061.88717806921\n",
      "MSE  1027964609.4192387\n",
      "R2   0.8475979373112059\n",
      "MAE  21534.006242212447\n"
     ]
    }
   ],
   "source": [
    "calc_metrics(y_test, y_pred)"
   ]
  },
  {
   "cell_type": "markdown",
   "metadata": {},
   "source": [
    "#### For 1 unit increase (square foot) in gr_liv_area, holding all other variables constant, we can expect the average price of a home to increase by $43."
   ]
  },
  {
   "cell_type": "code",
   "execution_count": 280,
   "metadata": {},
   "outputs": [
    {
     "data": {
      "text/plain": [
       "2839220.773393864"
      ]
     },
     "execution_count": 280,
     "metadata": {},
     "output_type": "execute_result"
    }
   ],
   "source": [
    "model.intercept_"
   ]
  },
  {
   "cell_type": "code",
   "execution_count": 281,
   "metadata": {},
   "outputs": [
    {
     "data": {
      "text/html": [
       "<div>\n",
       "<style scoped>\n",
       "    .dataframe tbody tr th:only-of-type {\n",
       "        vertical-align: middle;\n",
       "    }\n",
       "\n",
       "    .dataframe tbody tr th {\n",
       "        vertical-align: top;\n",
       "    }\n",
       "\n",
       "    .dataframe thead th {\n",
       "        text-align: right;\n",
       "    }\n",
       "</style>\n",
       "<table border=\"1\" class=\"dataframe\">\n",
       "  <thead>\n",
       "    <tr style=\"text-align: right;\">\n",
       "      <th></th>\n",
       "      <th>Feature</th>\n",
       "      <th>Coefficient</th>\n",
       "    </tr>\n",
       "  </thead>\n",
       "  <tbody>\n",
       "    <tr>\n",
       "      <th>3</th>\n",
       "      <td>overall_qual</td>\n",
       "      <td>14601.557018</td>\n",
       "    </tr>\n",
       "    <tr>\n",
       "      <th>6</th>\n",
       "      <td>exter_qual</td>\n",
       "      <td>14593.357442</td>\n",
       "    </tr>\n",
       "    <tr>\n",
       "      <th>22</th>\n",
       "      <td>garage_qual</td>\n",
       "      <td>13381.679934</td>\n",
       "    </tr>\n",
       "    <tr>\n",
       "      <th>20</th>\n",
       "      <td>garage_cars</td>\n",
       "      <td>13335.222523</td>\n",
       "    </tr>\n",
       "    <tr>\n",
       "      <th>18</th>\n",
       "      <td>kitchen_qual</td>\n",
       "      <td>13283.496715</td>\n",
       "    </tr>\n",
       "    <tr>\n",
       "      <th>19</th>\n",
       "      <td>fireplaces</td>\n",
       "      <td>6124.364058</td>\n",
       "    </tr>\n",
       "    <tr>\n",
       "      <th>8</th>\n",
       "      <td>bsmt_qual</td>\n",
       "      <td>6041.680739</td>\n",
       "    </tr>\n",
       "    <tr>\n",
       "      <th>12</th>\n",
       "      <td>central_air</td>\n",
       "      <td>3940.045778</td>\n",
       "    </tr>\n",
       "    <tr>\n",
       "      <th>4</th>\n",
       "      <td>overall_cond</td>\n",
       "      <td>3449.871565</td>\n",
       "    </tr>\n",
       "    <tr>\n",
       "      <th>28</th>\n",
       "      <td>bsmt_rating</td>\n",
       "      <td>2931.334582</td>\n",
       "    </tr>\n",
       "    <tr>\n",
       "      <th>16</th>\n",
       "      <td>bedroom_abvgr</td>\n",
       "      <td>2577.524215</td>\n",
       "    </tr>\n",
       "    <tr>\n",
       "      <th>14</th>\n",
       "      <td>gr_liv_area</td>\n",
       "      <td>33.634272</td>\n",
       "    </tr>\n",
       "    <tr>\n",
       "      <th>7</th>\n",
       "      <td>exter_cond</td>\n",
       "      <td>20.212671</td>\n",
       "    </tr>\n",
       "    <tr>\n",
       "      <th>21</th>\n",
       "      <td>garage_area</td>\n",
       "      <td>19.143322</td>\n",
       "    </tr>\n",
       "    <tr>\n",
       "      <th>13</th>\n",
       "      <td>1st_flr_sf</td>\n",
       "      <td>10.676802</td>\n",
       "    </tr>\n",
       "    <tr>\n",
       "      <th>29</th>\n",
       "      <td>bsmt_sf</td>\n",
       "      <td>9.129693</td>\n",
       "    </tr>\n",
       "    <tr>\n",
       "      <th>11</th>\n",
       "      <td>total_bsmt_sf</td>\n",
       "      <td>6.054282</td>\n",
       "    </tr>\n",
       "    <tr>\n",
       "      <th>26</th>\n",
       "      <td>quality</td>\n",
       "      <td>2.787158</td>\n",
       "    </tr>\n",
       "    <tr>\n",
       "      <th>1</th>\n",
       "      <td>lot_area</td>\n",
       "      <td>0.655573</td>\n",
       "    </tr>\n",
       "    <tr>\n",
       "      <th>10</th>\n",
       "      <td>bsmt_unf_sf</td>\n",
       "      <td>-3.075411</td>\n",
       "    </tr>\n",
       "    <tr>\n",
       "      <th>25</th>\n",
       "      <td>age</td>\n",
       "      <td>-19.793368</td>\n",
       "    </tr>\n",
       "    <tr>\n",
       "      <th>15</th>\n",
       "      <td>full_bath</td>\n",
       "      <td>-692.185162</td>\n",
       "    </tr>\n",
       "    <tr>\n",
       "      <th>2</th>\n",
       "      <td>condition_1</td>\n",
       "      <td>-1331.255877</td>\n",
       "    </tr>\n",
       "    <tr>\n",
       "      <th>27</th>\n",
       "      <td>remod</td>\n",
       "      <td>-1448.600339</td>\n",
       "    </tr>\n",
       "    <tr>\n",
       "      <th>5</th>\n",
       "      <td>year_remod/add</td>\n",
       "      <td>-1491.077168</td>\n",
       "    </tr>\n",
       "    <tr>\n",
       "      <th>24</th>\n",
       "      <td>paved_drive</td>\n",
       "      <td>-2330.695540</td>\n",
       "    </tr>\n",
       "    <tr>\n",
       "      <th>0</th>\n",
       "      <td>ms_zoning</td>\n",
       "      <td>-3596.608186</td>\n",
       "    </tr>\n",
       "    <tr>\n",
       "      <th>23</th>\n",
       "      <td>garage_cond</td>\n",
       "      <td>-7931.784162</td>\n",
       "    </tr>\n",
       "    <tr>\n",
       "      <th>9</th>\n",
       "      <td>bsmt_cond</td>\n",
       "      <td>-11130.623895</td>\n",
       "    </tr>\n",
       "    <tr>\n",
       "      <th>17</th>\n",
       "      <td>kitchen_abvgr</td>\n",
       "      <td>-23332.608951</td>\n",
       "    </tr>\n",
       "  </tbody>\n",
       "</table>\n",
       "</div>"
      ],
      "text/plain": [
       "           Feature   Coefficient\n",
       "3     overall_qual  14601.557018\n",
       "6       exter_qual  14593.357442\n",
       "22     garage_qual  13381.679934\n",
       "20     garage_cars  13335.222523\n",
       "18    kitchen_qual  13283.496715\n",
       "19      fireplaces   6124.364058\n",
       "8        bsmt_qual   6041.680739\n",
       "12     central_air   3940.045778\n",
       "4     overall_cond   3449.871565\n",
       "28     bsmt_rating   2931.334582\n",
       "16   bedroom_abvgr   2577.524215\n",
       "14     gr_liv_area     33.634272\n",
       "7       exter_cond     20.212671\n",
       "21     garage_area     19.143322\n",
       "13      1st_flr_sf     10.676802\n",
       "29         bsmt_sf      9.129693\n",
       "11   total_bsmt_sf      6.054282\n",
       "26         quality      2.787158\n",
       "1         lot_area      0.655573\n",
       "10     bsmt_unf_sf     -3.075411\n",
       "25             age    -19.793368\n",
       "15       full_bath   -692.185162\n",
       "2      condition_1  -1331.255877\n",
       "27           remod  -1448.600339\n",
       "5   year_remod/add  -1491.077168\n",
       "24     paved_drive  -2330.695540\n",
       "0        ms_zoning  -3596.608186\n",
       "23     garage_cond  -7931.784162\n",
       "9        bsmt_cond -11130.623895\n",
       "17   kitchen_abvgr -23332.608951"
      ]
     },
     "execution_count": 281,
     "metadata": {},
     "output_type": "execute_result"
    }
   ],
   "source": [
    "coef = zip(X_test.columns, model.coef_)\n",
    "df_coef = pd.DataFrame(coef, columns=['Feature', 'Coefficient']).sort_values(by='Coefficient', ascending=False)\n",
    "df_coef"
   ]
  },
  {
   "cell_type": "code",
   "execution_count": 282,
   "metadata": {},
   "outputs": [
    {
     "data": {
      "image/png": "[encoded data removed]",
      "text/plain": [
       "<Figure size 864x432 with 1 Axes>"
      ]
     },
     "metadata": {
      "needs_background": "light"
     },
     "output_type": "display_data"
    }
   ],
   "source": [
    "plt.figure(figsize=(12,6))\n",
    "plt.title('How Factors affect Sale Price for the Model')\n",
    "ax = sns.barplot(x='Coefficient', y='Feature', data=df_coef)\n",
    "ax.set(xlabel='Amount ($)', ylabel='Variable Name');"
   ]
  }
 ],
 "metadata": {
  "kernelspec": {
   "display_name": "Python 3",
   "language": "python",
   "name": "python3"
  },
  "language_info": {
   "codemirror_mode": {
    "name": "ipython",
    "version": 3
   },
   "file_extension": ".py",
   "mimetype": "text/x-python",
   "name": "python",
   "nbconvert_exporter": "python",
   "pygments_lexer": "ipython3",
   "version": "3.8.3"
  }
 },
 "nbformat": 4,
 "nbformat_minor": 4
}
