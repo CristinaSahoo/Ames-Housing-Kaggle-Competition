{
 "cells": [
  {
   "cell_type": "code",
   "execution_count": 209,
   "metadata": {},
   "outputs": [],
   "source": [
    "import pandas as pd\n",
    "import numpy as np\n",
    "import matplotlib.pyplot as plt\n",
    "import seaborn as sns\n",
    "from sklearn.model_selection import train_test_split, cross_val_score\n",
    "from sklearn.linear_model import LinearRegression\n",
    "from sklearn.linear_model import LogisticRegression\n",
    "from sklearn.preprocessing import StandardScaler, PolynomialFeatures\n",
    "from sklearn import metrics\n",
    "from sklearn.linear_model import Lasso, LassoCV\n",
    "from sklearn.linear_model import Ridge"
   ]
  },
  {
   "cell_type": "code",
   "execution_count": 210,
   "metadata": {},
   "outputs": [],
   "source": [
    "%run functions.py"
   ]
  },
  {
   "cell_type": "code",
   "execution_count": 211,
   "metadata": {},
   "outputs": [],
   "source": [
    "df_train_clean = pd.read_csv('../data/train_clean.csv')\n",
    "df_test_clean = pd.read_csv('../data/test_clean.csv')\n",
    "pd.set_option('display.max_columns', None)\n",
    "pd.set_option('display.max_rows', None)"
   ]
  },
  {
   "cell_type": "code",
   "execution_count": 212,
   "metadata": {},
   "outputs": [],
   "source": [
    "features = df_train_clean.columns.drop('saleprice')"
   ]
  },
  {
   "cell_type": "code",
   "execution_count": 213,
   "metadata": {},
   "outputs": [],
   "source": [
    "features = ['lot_area', 'condition_1', 'central_air',\n",
    "            '1st_flr_sf', 'gr_liv_area', 'full_bath', 'bedroom_abvgr',\n",
    "            'kitchen_qual', 'fireplaces', 'garage_cars',\n",
    "            'garage_area', 'garage_cond', 'paved_drive', 'yr_sold',\n",
    "            'age', 'quality', 'remod', 'bsmt_rating', 'bsmt_sf']"
   ]
  },
  {
   "cell_type": "code",
   "execution_count": 214,
   "metadata": {},
   "outputs": [],
   "source": [
    "features = ['lot_area',\n",
    "            '1st_flr_sf', 'gr_liv_area', 'full_bath', 'bedroom_abvgr',\n",
    "            'kitchen_qual',\n",
    "            'garage_area',\n",
    "            'age', 'quality', 'remod', 'bsmt_rating', 'bsmt_sf']"
   ]
  },
  {
   "cell_type": "code",
   "execution_count": 215,
   "metadata": {},
   "outputs": [
    {
     "data": {
      "text/plain": [
       "Index(['ms_zoning', 'lot_area', 'condition_1', 'overall_qual', 'overall_cond',\n",
       "       'year_remod/add', 'exter_qual', 'exter_cond', 'bsmt_qual', 'bsmt_cond',\n",
       "       'bsmt_unf_sf', 'total_bsmt_sf', 'central_air', '1st_flr_sf',\n",
       "       'gr_liv_area', 'full_bath', 'bedroom_abvgr', 'kitchen_abvgr',\n",
       "       'kitchen_qual', 'fireplaces', 'garage_cars', 'garage_area',\n",
       "       'garage_qual', 'garage_cond', 'paved_drive', 'age', 'quality', 'remod',\n",
       "       'bsmt_rating', 'bsmt_sf'],\n",
       "      dtype='object')"
      ]
     },
     "execution_count": 215,
     "metadata": {},
     "output_type": "execute_result"
    }
   ],
   "source": [
    "features = df_train_clean.columns.drop(['saleprice', 'yr_sold', 'year_built'])\n",
    "features"
   ]
  },
  {
   "cell_type": "markdown",
   "metadata": {},
   "source": [
    "## Natural Log Model"
   ]
  },
  {
   "cell_type": "code",
   "execution_count": 216,
   "metadata": {},
   "outputs": [],
   "source": [
    "X = df_train_clean[features].copy()"
   ]
  },
  {
   "cell_type": "code",
   "execution_count": 217,
   "metadata": {},
   "outputs": [],
   "source": [
    "y = df_train_clean['saleprice'].copy()\n",
    "y = y.map(np.log)"
   ]
  },
  {
   "cell_type": "code",
   "execution_count": 218,
   "metadata": {},
   "outputs": [],
   "source": [
    "poly = PolynomialFeatures(include_bias=False)\n",
    "X_poly = poly.fit_transform(X)"
   ]
  },
  {
   "cell_type": "code",
   "execution_count": 219,
   "metadata": {},
   "outputs": [],
   "source": [
    "X_train, X_test, y_train, y_test = train_test_split(X_poly, y, random_state=42)"
   ]
  },
  {
   "cell_type": "markdown",
   "metadata": {},
   "source": [
    "Create a new linear regression model and fit it over the train data.  \n",
    "Then, calculate the Train score, Test score, and Baseline score."
   ]
  },
  {
   "cell_type": "code",
   "execution_count": 220,
   "metadata": {},
   "outputs": [
    {
     "name": "stdout",
     "output_type": "stream",
     "text": [
      "Train score  0.9609719973854534\n",
      "Test score   -0.12122368130990102\n",
      "Baseline     -2551.771815150261\n"
     ]
    }
   ],
   "source": [
    "model_log = LinearRegression()\n",
    "model_log.fit(X_train, y_train)\n",
    "calc_scores(model_log, X_train, y_train, X_test, y_test)"
   ]
  },
  {
   "cell_type": "markdown",
   "metadata": {},
   "source": [
    "Predict the sale price for the test data."
   ]
  },
  {
   "cell_type": "code",
   "execution_count": 221,
   "metadata": {},
   "outputs": [],
   "source": [
    "y_pred_log = model_log.predict(X_test)\n",
    "resids_log = y_test - y_pred_log"
   ]
  },
  {
   "cell_type": "markdown",
   "metadata": {},
   "source": [
    "Reverse the predictions for test and predicted sale price from natural log to price units."
   ]
  },
  {
   "cell_type": "code",
   "execution_count": 222,
   "metadata": {},
   "outputs": [],
   "source": [
    "y_pred = np.exp(y_pred_log)\n",
    "y_test = np.exp(y_test)\n",
    "y_train = np.exp(y_train)"
   ]
  },
  {
   "cell_type": "markdown",
   "metadata": {},
   "source": [
    "Calculate metrics for true values vs. predicted values of the sales price."
   ]
  },
  {
   "cell_type": "code",
   "execution_count": 223,
   "metadata": {},
   "outputs": [
    {
     "name": "stdout",
     "output_type": "stream",
     "text": [
      "RMSE 289203.8639679176\n",
      "MSE  83638874933.9738\n",
      "R2   -11.399976559610458\n",
      "MAE  45785.639241457\n"
     ]
    }
   ],
   "source": [
    "calc_metrics(y_test, y_pred)"
   ]
  },
  {
   "cell_type": "markdown",
   "metadata": {},
   "source": [
    "#### For 1 unit increase (___) in gr_liv_area, holding all other variables constant, we can expect the average price of a home to increase by ___."
   ]
  },
  {
   "cell_type": "code",
   "execution_count": 224,
   "metadata": {},
   "outputs": [
    {
     "data": {
      "text/plain": [
       "14209.691456628185"
      ]
     },
     "execution_count": 224,
     "metadata": {},
     "output_type": "execute_result"
    }
   ],
   "source": [
    "model_log.intercept_"
   ]
  },
  {
   "cell_type": "code",
   "execution_count": 225,
   "metadata": {},
   "outputs": [
    {
     "data": {
      "text/html": [
       "<div>\n",
       "<style scoped>\n",
       "    .dataframe tbody tr th:only-of-type {\n",
       "        vertical-align: middle;\n",
       "    }\n",
       "\n",
       "    .dataframe tbody tr th {\n",
       "        vertical-align: top;\n",
       "    }\n",
       "\n",
       "    .dataframe thead th {\n",
       "        text-align: right;\n",
       "    }\n",
       "</style>\n",
       "<table border=\"1\" class=\"dataframe\">\n",
       "  <thead>\n",
       "    <tr style=\"text-align: right;\">\n",
       "      <th></th>\n",
       "      <th>Feature</th>\n",
       "      <th>Coefficient</th>\n",
       "    </tr>\n",
       "  </thead>\n",
       "  <tbody>\n",
       "    <tr>\n",
       "      <th>24</th>\n",
       "      <td>paved_drive</td>\n",
       "      <td>87.507001</td>\n",
       "    </tr>\n",
       "    <tr>\n",
       "      <th>9</th>\n",
       "      <td>bsmt_cond</td>\n",
       "      <td>81.727607</td>\n",
       "    </tr>\n",
       "    <tr>\n",
       "      <th>8</th>\n",
       "      <td>bsmt_qual</td>\n",
       "      <td>61.536109</td>\n",
       "    </tr>\n",
       "    <tr>\n",
       "      <th>23</th>\n",
       "      <td>garage_cond</td>\n",
       "      <td>47.253463</td>\n",
       "    </tr>\n",
       "    <tr>\n",
       "      <th>19</th>\n",
       "      <td>fireplaces</td>\n",
       "      <td>12.583910</td>\n",
       "    </tr>\n",
       "    <tr>\n",
       "      <th>18</th>\n",
       "      <td>kitchen_qual</td>\n",
       "      <td>9.681927</td>\n",
       "    </tr>\n",
       "    <tr>\n",
       "      <th>2</th>\n",
       "      <td>condition_1</td>\n",
       "      <td>8.936963</td>\n",
       "    </tr>\n",
       "    <tr>\n",
       "      <th>3</th>\n",
       "      <td>overall_qual</td>\n",
       "      <td>3.909466</td>\n",
       "    </tr>\n",
       "    <tr>\n",
       "      <th>4</th>\n",
       "      <td>overall_cond</td>\n",
       "      <td>1.065269</td>\n",
       "    </tr>\n",
       "    <tr>\n",
       "      <th>25</th>\n",
       "      <td>age</td>\n",
       "      <td>0.290236</td>\n",
       "    </tr>\n",
       "    <tr>\n",
       "      <th>10</th>\n",
       "      <td>bsmt_unf_sf</td>\n",
       "      <td>0.046362</td>\n",
       "    </tr>\n",
       "    <tr>\n",
       "      <th>21</th>\n",
       "      <td>garage_area</td>\n",
       "      <td>0.043684</td>\n",
       "    </tr>\n",
       "    <tr>\n",
       "      <th>29</th>\n",
       "      <td>bsmt_sf</td>\n",
       "      <td>0.037017</td>\n",
       "    </tr>\n",
       "    <tr>\n",
       "      <th>14</th>\n",
       "      <td>gr_liv_area</td>\n",
       "      <td>0.034123</td>\n",
       "    </tr>\n",
       "    <tr>\n",
       "      <th>11</th>\n",
       "      <td>total_bsmt_sf</td>\n",
       "      <td>0.013004</td>\n",
       "    </tr>\n",
       "    <tr>\n",
       "      <th>1</th>\n",
       "      <td>lot_area</td>\n",
       "      <td>0.000441</td>\n",
       "    </tr>\n",
       "    <tr>\n",
       "      <th>13</th>\n",
       "      <td>1st_flr_sf</td>\n",
       "      <td>-0.046619</td>\n",
       "    </tr>\n",
       "    <tr>\n",
       "      <th>26</th>\n",
       "      <td>quality</td>\n",
       "      <td>-0.048046</td>\n",
       "    </tr>\n",
       "    <tr>\n",
       "      <th>0</th>\n",
       "      <td>ms_zoning</td>\n",
       "      <td>-1.096225</td>\n",
       "    </tr>\n",
       "    <tr>\n",
       "      <th>28</th>\n",
       "      <td>bsmt_rating</td>\n",
       "      <td>-9.210227</td>\n",
       "    </tr>\n",
       "    <tr>\n",
       "      <th>6</th>\n",
       "      <td>exter_qual</td>\n",
       "      <td>-11.053191</td>\n",
       "    </tr>\n",
       "    <tr>\n",
       "      <th>16</th>\n",
       "      <td>bedroom_abvgr</td>\n",
       "      <td>-11.971446</td>\n",
       "    </tr>\n",
       "    <tr>\n",
       "      <th>5</th>\n",
       "      <td>year_remod/add</td>\n",
       "      <td>-14.015405</td>\n",
       "    </tr>\n",
       "    <tr>\n",
       "      <th>27</th>\n",
       "      <td>remod</td>\n",
       "      <td>-14.277954</td>\n",
       "    </tr>\n",
       "    <tr>\n",
       "      <th>7</th>\n",
       "      <td>exter_cond</td>\n",
       "      <td>-14.513696</td>\n",
       "    </tr>\n",
       "    <tr>\n",
       "      <th>17</th>\n",
       "      <td>kitchen_abvgr</td>\n",
       "      <td>-25.872632</td>\n",
       "    </tr>\n",
       "    <tr>\n",
       "      <th>15</th>\n",
       "      <td>full_bath</td>\n",
       "      <td>-26.253439</td>\n",
       "    </tr>\n",
       "    <tr>\n",
       "      <th>20</th>\n",
       "      <td>garage_cars</td>\n",
       "      <td>-31.138033</td>\n",
       "    </tr>\n",
       "    <tr>\n",
       "      <th>12</th>\n",
       "      <td>central_air</td>\n",
       "      <td>-43.609981</td>\n",
       "    </tr>\n",
       "    <tr>\n",
       "      <th>22</th>\n",
       "      <td>garage_qual</td>\n",
       "      <td>-192.502863</td>\n",
       "    </tr>\n",
       "  </tbody>\n",
       "</table>\n",
       "</div>"
      ],
      "text/plain": [
       "           Feature  Coefficient\n",
       "24     paved_drive    87.507001\n",
       "9        bsmt_cond    81.727607\n",
       "8        bsmt_qual    61.536109\n",
       "23     garage_cond    47.253463\n",
       "19      fireplaces    12.583910\n",
       "18    kitchen_qual     9.681927\n",
       "2      condition_1     8.936963\n",
       "3     overall_qual     3.909466\n",
       "4     overall_cond     1.065269\n",
       "25             age     0.290236\n",
       "10     bsmt_unf_sf     0.046362\n",
       "21     garage_area     0.043684\n",
       "29         bsmt_sf     0.037017\n",
       "14     gr_liv_area     0.034123\n",
       "11   total_bsmt_sf     0.013004\n",
       "1         lot_area     0.000441\n",
       "13      1st_flr_sf    -0.046619\n",
       "26         quality    -0.048046\n",
       "0        ms_zoning    -1.096225\n",
       "28     bsmt_rating    -9.210227\n",
       "6       exter_qual   -11.053191\n",
       "16   bedroom_abvgr   -11.971446\n",
       "5   year_remod/add   -14.015405\n",
       "27           remod   -14.277954\n",
       "7       exter_cond   -14.513696\n",
       "17   kitchen_abvgr   -25.872632\n",
       "15       full_bath   -26.253439\n",
       "20     garage_cars   -31.138033\n",
       "12     central_air   -43.609981\n",
       "22     garage_qual  -192.502863"
      ]
     },
     "execution_count": 225,
     "metadata": {},
     "output_type": "execute_result"
    }
   ],
   "source": [
    "coef = zip(X.columns, model_log.coef_)\n",
    "df_coef = pd.DataFrame(coef, columns=['Feature', 'Coefficient']).sort_values(by='Coefficient', ascending=False)\n",
    "df_coef"
   ]
  },
  {
   "cell_type": "code",
   "execution_count": 226,
   "metadata": {},
   "outputs": [
    {
     "data": {
      "image/png": "[encoded data removed]",
      "text/plain": [
       "<Figure size 864x432 with 1 Axes>"
      ]
     },
     "metadata": {
      "needs_background": "light"
     },
     "output_type": "display_data"
    }
   ],
   "source": [
    "plt.figure(figsize=(12,6))\n",
    "plt.title('How Factors affect Sale Price for the Model')\n",
    "ax = sns.barplot(x='Coefficient', y='Feature', data=df_coef)\n",
    "ax.set(xlabel='Amount ($)', ylabel='Variable Name');"
   ]
  },
  {
   "cell_type": "code",
   "execution_count": null,
   "metadata": {},
   "outputs": [],
   "source": []
  }
 ],
 "metadata": {
  "kernelspec": {
   "display_name": "Python 3",
   "language": "python",
   "name": "python3"
  },
  "language_info": {
   "codemirror_mode": {
    "name": "ipython",
    "version": 3
   },
   "file_extension": ".py",
   "mimetype": "text/x-python",
   "name": "python",
   "nbconvert_exporter": "python",
   "pygments_lexer": "ipython3",
   "version": "3.8.3"
  }
 },
 "nbformat": 4,
 "nbformat_minor": 4
}
