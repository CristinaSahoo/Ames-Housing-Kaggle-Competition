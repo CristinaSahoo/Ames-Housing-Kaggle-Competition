{
 "cells": [
  {
   "cell_type": "code",
   "execution_count": 241,
   "metadata": {},
   "outputs": [],
   "source": [
    "import pandas as pd\n",
    "import numpy as np\n",
    "import matplotlib.pyplot as plt\n",
    "import seaborn as sns\n",
    "from sklearn.model_selection import train_test_split, cross_val_score\n",
    "from sklearn.linear_model import LinearRegression\n",
    "from sklearn.linear_model import LogisticRegression\n",
    "from sklearn.preprocessing import StandardScaler, PolynomialFeatures\n",
    "from sklearn import metrics\n",
    "from sklearn.linear_model import Lasso, LassoCV\n",
    "from sklearn.linear_model import Ridge"
   ]
  },
  {
   "cell_type": "code",
   "execution_count": 242,
   "metadata": {},
   "outputs": [],
   "source": [
    "%run functions.py"
   ]
  },
  {
   "cell_type": "code",
   "execution_count": 243,
   "metadata": {},
   "outputs": [],
   "source": [
    "df_train_clean = pd.read_csv('../data/train_clean.csv')\n",
    "df_test_clean = pd.read_csv('../data/test_clean.csv')\n",
    "pd.set_option('display.max_columns', None)\n",
    "pd.set_option('display.max_rows', None)"
   ]
  },
  {
   "cell_type": "code",
   "execution_count": 244,
   "metadata": {},
   "outputs": [],
   "source": [
    "features = ['lot_area', 'condition_1', 'central_air',\n",
    "            '1st_flr_sf', 'gr_liv_area', 'full_bath', 'bedroom_abvgr',\n",
    "            'kitchen_qual', 'fireplaces', 'garage_cars',\n",
    "            'garage_area', 'garage_cond', 'paved_drive', 'yr_sold',\n",
    "            'age', 'quality', 'remod', 'bsmt_rating', 'bsmt_sf']"
   ]
  },
  {
   "cell_type": "code",
   "execution_count": 245,
   "metadata": {},
   "outputs": [],
   "source": [
    "features = ['gr_liv_area', '1st_flr_sf', 'bsmt_sf', 'quality', 'age', 'remod']"
   ]
  },
  {
   "cell_type": "code",
   "execution_count": 246,
   "metadata": {},
   "outputs": [],
   "source": [
    "features = df_train_clean.columns.drop('saleprice')"
   ]
  },
  {
   "cell_type": "code",
   "execution_count": 247,
   "metadata": {},
   "outputs": [
    {
     "data": {
      "text/plain": [
       "Index(['ms_zoning', 'lot_area', 'condition_1', 'overall_qual', 'overall_cond',\n",
       "       'year_remod/add', 'exter_qual', 'exter_cond', 'bsmt_qual', 'bsmt_cond',\n",
       "       'bsmt_unf_sf', 'total_bsmt_sf', 'central_air', '1st_flr_sf',\n",
       "       'gr_liv_area', 'full_bath', 'bedroom_abvgr', 'kitchen_abvgr',\n",
       "       'kitchen_qual', 'fireplaces', 'garage_cars', 'garage_area',\n",
       "       'garage_qual', 'garage_cond', 'paved_drive', 'age', 'quality', 'remod',\n",
       "       'bsmt_rating', 'bsmt_sf'],\n",
       "      dtype='object')"
      ]
     },
     "execution_count": 247,
     "metadata": {},
     "output_type": "execute_result"
    }
   ],
   "source": [
    "features = df_train_clean.columns.drop(['saleprice', 'yr_sold', 'year_built'])\n",
    "features"
   ]
  },
  {
   "cell_type": "markdown",
   "metadata": {},
   "source": [
    "## Natural Log Model"
   ]
  },
  {
   "cell_type": "code",
   "execution_count": 248,
   "metadata": {},
   "outputs": [],
   "source": [
    "X = df_train_clean[features].copy()"
   ]
  },
  {
   "cell_type": "code",
   "execution_count": 249,
   "metadata": {},
   "outputs": [],
   "source": [
    "y = df_train_clean['saleprice'].copy()\n",
    "y = y.map(np.log)"
   ]
  },
  {
   "cell_type": "code",
   "execution_count": 250,
   "metadata": {},
   "outputs": [],
   "source": [
    "X_train, X_test, y_train, y_test = train_test_split (X, y, random_state=42)"
   ]
  },
  {
   "cell_type": "markdown",
   "metadata": {},
   "source": [
    "Create a new linear regression model and fit it over the train data.  \n",
    "Then, calculate the Train score, Test score, and Baseline score."
   ]
  },
  {
   "cell_type": "code",
   "execution_count": 251,
   "metadata": {},
   "outputs": [
    {
     "name": "stdout",
     "output_type": "stream",
     "text": [
      "Train score  0.852602848601379\n",
      "Test score   0.8853802725180739\n",
      "Baseline     0.8051272131677297\n"
     ]
    }
   ],
   "source": [
    "model_log = LinearRegression()\n",
    "model_log.fit(X_train, y_train)\n",
    "calc_scores(model_log, X_train, y_train, X_test, y_test)"
   ]
  },
  {
   "cell_type": "markdown",
   "metadata": {},
   "source": [
    "Predict the sale price for the test data."
   ]
  },
  {
   "cell_type": "code",
   "execution_count": 252,
   "metadata": {},
   "outputs": [],
   "source": [
    "y_pred_log = model_log.predict(X_test)\n",
    "resids_log = y_test - y_pred_log"
   ]
  },
  {
   "cell_type": "markdown",
   "metadata": {},
   "source": [
    "Reverse the predictions for test and predicted sale price from natural log to price units."
   ]
  },
  {
   "cell_type": "code",
   "execution_count": 253,
   "metadata": {},
   "outputs": [],
   "source": [
    "y_pred = np.exp(y_pred_log)\n",
    "y_test = np.exp(y_test)\n",
    "y_train = np.exp(y_train)"
   ]
  },
  {
   "cell_type": "markdown",
   "metadata": {},
   "source": [
    "Calculate metrics for true values vs. predicted values of the sales price."
   ]
  },
  {
   "cell_type": "code",
   "execution_count": 254,
   "metadata": {},
   "outputs": [
    {
     "name": "stdout",
     "output_type": "stream",
     "text": [
      "RMSE 27644.381221118038\n",
      "MSE  764211813.0985036\n",
      "R2   0.8867009082023214\n",
      "MAE  18349.31952736196\n"
     ]
    }
   ],
   "source": [
    "calc_metrics(y_test, y_pred)"
   ]
  },
  {
   "cell_type": "markdown",
   "metadata": {},
   "source": [
    "#### For 1 unit increase (square foot) in gr_liv_area, holding all other variables constant, we can expect the average price of a home to increase by 0.185%.\n",
    "#### For 1 unit increase (year) in age, holding all other values constant, we can expect the average price of a home to drop by 2.24%."
   ]
  },
  {
   "cell_type": "code",
   "execution_count": 255,
   "metadata": {},
   "outputs": [
    {
     "data": {
      "text/plain": [
       "22.641723945109096"
      ]
     },
     "execution_count": 255,
     "metadata": {},
     "output_type": "execute_result"
    }
   ],
   "source": [
    "model_log.intercept_"
   ]
  },
  {
   "cell_type": "code",
   "execution_count": 256,
   "metadata": {},
   "outputs": [
    {
     "data": {
      "text/html": [
       "<div>\n",
       "<style scoped>\n",
       "    .dataframe tbody tr th:only-of-type {\n",
       "        vertical-align: middle;\n",
       "    }\n",
       "\n",
       "    .dataframe tbody tr th {\n",
       "        vertical-align: top;\n",
       "    }\n",
       "\n",
       "    .dataframe thead th {\n",
       "        text-align: right;\n",
       "    }\n",
       "</style>\n",
       "<table border=\"1\" class=\"dataframe\">\n",
       "  <thead>\n",
       "    <tr style=\"text-align: right;\">\n",
       "      <th></th>\n",
       "      <th>Feature</th>\n",
       "      <th>Coefficient</th>\n",
       "    </tr>\n",
       "  </thead>\n",
       "  <tbody>\n",
       "    <tr>\n",
       "      <th>8</th>\n",
       "      <td>bsmt_qual</td>\n",
       "      <td>0.154431</td>\n",
       "    </tr>\n",
       "    <tr>\n",
       "      <th>9</th>\n",
       "      <td>bsmt_cond</td>\n",
       "      <td>0.150123</td>\n",
       "    </tr>\n",
       "    <tr>\n",
       "      <th>3</th>\n",
       "      <td>overall_qual</td>\n",
       "      <td>0.104038</td>\n",
       "    </tr>\n",
       "    <tr>\n",
       "      <th>6</th>\n",
       "      <td>exter_qual</td>\n",
       "      <td>0.085498</td>\n",
       "    </tr>\n",
       "    <tr>\n",
       "      <th>20</th>\n",
       "      <td>garage_cars</td>\n",
       "      <td>0.083772</td>\n",
       "    </tr>\n",
       "    <tr>\n",
       "      <th>12</th>\n",
       "      <td>central_air</td>\n",
       "      <td>0.070698</td>\n",
       "    </tr>\n",
       "    <tr>\n",
       "      <th>22</th>\n",
       "      <td>garage_qual</td>\n",
       "      <td>0.065544</td>\n",
       "    </tr>\n",
       "    <tr>\n",
       "      <th>4</th>\n",
       "      <td>overall_cond</td>\n",
       "      <td>0.062740</td>\n",
       "    </tr>\n",
       "    <tr>\n",
       "      <th>7</th>\n",
       "      <td>exter_cond</td>\n",
       "      <td>0.055926</td>\n",
       "    </tr>\n",
       "    <tr>\n",
       "      <th>18</th>\n",
       "      <td>kitchen_qual</td>\n",
       "      <td>0.051320</td>\n",
       "    </tr>\n",
       "    <tr>\n",
       "      <th>19</th>\n",
       "      <td>fireplaces</td>\n",
       "      <td>0.042400</td>\n",
       "    </tr>\n",
       "    <tr>\n",
       "      <th>15</th>\n",
       "      <td>full_bath</td>\n",
       "      <td>0.024075</td>\n",
       "    </tr>\n",
       "    <tr>\n",
       "      <th>24</th>\n",
       "      <td>paved_drive</td>\n",
       "      <td>0.023913</td>\n",
       "    </tr>\n",
       "    <tr>\n",
       "      <th>16</th>\n",
       "      <td>bedroom_abvgr</td>\n",
       "      <td>0.022619</td>\n",
       "    </tr>\n",
       "    <tr>\n",
       "      <th>23</th>\n",
       "      <td>garage_cond</td>\n",
       "      <td>0.019975</td>\n",
       "    </tr>\n",
       "    <tr>\n",
       "      <th>14</th>\n",
       "      <td>gr_liv_area</td>\n",
       "      <td>0.000149</td>\n",
       "    </tr>\n",
       "    <tr>\n",
       "      <th>13</th>\n",
       "      <td>1st_flr_sf</td>\n",
       "      <td>0.000069</td>\n",
       "    </tr>\n",
       "    <tr>\n",
       "      <th>29</th>\n",
       "      <td>bsmt_sf</td>\n",
       "      <td>0.000039</td>\n",
       "    </tr>\n",
       "    <tr>\n",
       "      <th>11</th>\n",
       "      <td>total_bsmt_sf</td>\n",
       "      <td>0.000018</td>\n",
       "    </tr>\n",
       "    <tr>\n",
       "      <th>1</th>\n",
       "      <td>lot_area</td>\n",
       "      <td>0.000003</td>\n",
       "    </tr>\n",
       "    <tr>\n",
       "      <th>10</th>\n",
       "      <td>bsmt_unf_sf</td>\n",
       "      <td>-0.000021</td>\n",
       "    </tr>\n",
       "    <tr>\n",
       "      <th>21</th>\n",
       "      <td>garage_area</td>\n",
       "      <td>-0.000027</td>\n",
       "    </tr>\n",
       "    <tr>\n",
       "      <th>26</th>\n",
       "      <td>quality</td>\n",
       "      <td>-0.000437</td>\n",
       "    </tr>\n",
       "    <tr>\n",
       "      <th>25</th>\n",
       "      <td>age</td>\n",
       "      <td>-0.001252</td>\n",
       "    </tr>\n",
       "    <tr>\n",
       "      <th>5</th>\n",
       "      <td>year_remod/add</td>\n",
       "      <td>-0.006726</td>\n",
       "    </tr>\n",
       "    <tr>\n",
       "      <th>27</th>\n",
       "      <td>remod</td>\n",
       "      <td>-0.007153</td>\n",
       "    </tr>\n",
       "    <tr>\n",
       "      <th>2</th>\n",
       "      <td>condition_1</td>\n",
       "      <td>-0.007708</td>\n",
       "    </tr>\n",
       "    <tr>\n",
       "      <th>0</th>\n",
       "      <td>ms_zoning</td>\n",
       "      <td>-0.014328</td>\n",
       "    </tr>\n",
       "    <tr>\n",
       "      <th>28</th>\n",
       "      <td>bsmt_rating</td>\n",
       "      <td>-0.035225</td>\n",
       "    </tr>\n",
       "    <tr>\n",
       "      <th>17</th>\n",
       "      <td>kitchen_abvgr</td>\n",
       "      <td>-0.082337</td>\n",
       "    </tr>\n",
       "  </tbody>\n",
       "</table>\n",
       "</div>"
      ],
      "text/plain": [
       "           Feature  Coefficient\n",
       "8        bsmt_qual     0.154431\n",
       "9        bsmt_cond     0.150123\n",
       "3     overall_qual     0.104038\n",
       "6       exter_qual     0.085498\n",
       "20     garage_cars     0.083772\n",
       "12     central_air     0.070698\n",
       "22     garage_qual     0.065544\n",
       "4     overall_cond     0.062740\n",
       "7       exter_cond     0.055926\n",
       "18    kitchen_qual     0.051320\n",
       "19      fireplaces     0.042400\n",
       "15       full_bath     0.024075\n",
       "24     paved_drive     0.023913\n",
       "16   bedroom_abvgr     0.022619\n",
       "23     garage_cond     0.019975\n",
       "14     gr_liv_area     0.000149\n",
       "13      1st_flr_sf     0.000069\n",
       "29         bsmt_sf     0.000039\n",
       "11   total_bsmt_sf     0.000018\n",
       "1         lot_area     0.000003\n",
       "10     bsmt_unf_sf    -0.000021\n",
       "21     garage_area    -0.000027\n",
       "26         quality    -0.000437\n",
       "25             age    -0.001252\n",
       "5   year_remod/add    -0.006726\n",
       "27           remod    -0.007153\n",
       "2      condition_1    -0.007708\n",
       "0        ms_zoning    -0.014328\n",
       "28     bsmt_rating    -0.035225\n",
       "17   kitchen_abvgr    -0.082337"
      ]
     },
     "execution_count": 256,
     "metadata": {},
     "output_type": "execute_result"
    }
   ],
   "source": [
    "coef = zip(X_test.columns, model_log.coef_)\n",
    "df_coef = pd.DataFrame(coef, columns=['Feature', 'Coefficient']).sort_values(by='Coefficient', ascending=False)\n",
    "df_coef"
   ]
  },
  {
   "cell_type": "code",
   "execution_count": 257,
   "metadata": {},
   "outputs": [
    {
     "data": {
      "image/png": "[encoded data removed]",
      "text/plain": [
       "<Figure size 864x432 with 1 Axes>"
      ]
     },
     "metadata": {
      "needs_background": "light"
     },
     "output_type": "display_data"
    }
   ],
   "source": [
    "plt.figure(figsize=(12,6))\n",
    "plt.title('How Factors affect Sale Price for the Model')\n",
    "ax = sns.barplot(x='Coefficient', y='Feature', data=df_coef)\n",
    "ax.set(xlabel='Amount ($)', ylabel='Variable Name');"
   ]
  },
  {
   "cell_type": "markdown",
   "metadata": {},
   "source": [
    "## Lasso Model."
   ]
  },
  {
   "cell_type": "code",
   "execution_count": 258,
   "metadata": {},
   "outputs": [],
   "source": [
    "X = df_train_clean[features].copy()\n",
    "y = df_train_clean['saleprice'].copy()"
   ]
  },
  {
   "cell_type": "code",
   "execution_count": 259,
   "metadata": {},
   "outputs": [],
   "source": [
    "poly = PolynomialFeatures(include_bias=False)\n",
    "X_poly = poly.fit_transform(X)"
   ]
  },
  {
   "cell_type": "code",
   "execution_count": 260,
   "metadata": {},
   "outputs": [],
   "source": [
    "X_train, X_test, y_train, y_test = train_test_split (X, y, random_state=42)"
   ]
  },
  {
   "cell_type": "code",
   "execution_count": 261,
   "metadata": {},
   "outputs": [],
   "source": [
    "ss = StandardScaler()\n",
    "ss.fit(X_train)\n",
    "Z_train = ss.transform(X_train)\n",
    "Z_test = ss.transform(X_test)"
   ]
  },
  {
   "cell_type": "code",
   "execution_count": 262,
   "metadata": {},
   "outputs": [],
   "source": [
    "lasso_alphas = np.logspace(-3, 0, 100)\n",
    "lasso_cv_model = LassoCV(alphas=lasso_alphas, cv=5, max_iter=100_000)\n",
    "lasso_cv_model.fit(Z_train, y_train);"
   ]
  },
  {
   "cell_type": "code",
   "execution_count": 263,
   "metadata": {},
   "outputs": [
    {
     "name": "stdout",
     "output_type": "stream",
     "text": [
      "Train score  0.8182018919057666\n",
      "Test score   0.8417851928397275\n",
      "Baseline     0.7787096531885673\n"
     ]
    }
   ],
   "source": [
    "calc_scores(lasso_cv_model, Z_train, y_train, Z_test, y_test)"
   ]
  },
  {
   "cell_type": "code",
   "execution_count": 264,
   "metadata": {},
   "outputs": [],
   "source": [
    "y_pred = lasso_cv_model.predict(Z_test)"
   ]
  },
  {
   "cell_type": "code",
   "execution_count": 265,
   "metadata": {},
   "outputs": [
    {
     "name": "stdout",
     "output_type": "stream",
     "text": [
      "RMSE 30701.474184258648\n",
      "MSE  942580517.0867003\n",
      "R2   0.8417851928397275\n",
      "MAE  20856.409792720337\n"
     ]
    }
   ],
   "source": [
    "calc_metrics(y_test, y_pred)"
   ]
  },
  {
   "cell_type": "markdown",
   "metadata": {},
   "source": [
    "#### For 1 unit increase (standard deviation) in gr_liv_area, holding all other variables constant, we can expect the average price of a home to increase by $28,835.  "
   ]
  },
  {
   "cell_type": "markdown",
   "metadata": {},
   "source": [
    "#### For 1 unit increase (standard deviation) in age, holding all other variables constant, we can expect the average price of a home to decrease by $22,027."
   ]
  },
  {
   "cell_type": "code",
   "execution_count": 266,
   "metadata": {},
   "outputs": [
    {
     "data": {
      "text/plain": [
       "189278.36666666664"
      ]
     },
     "execution_count": 266,
     "metadata": {},
     "output_type": "execute_result"
    }
   ],
   "source": [
    "lasso_cv_model.intercept_"
   ]
  },
  {
   "cell_type": "code",
   "execution_count": 267,
   "metadata": {},
   "outputs": [
    {
     "data": {
      "text/html": [
       "<div>\n",
       "<style scoped>\n",
       "    .dataframe tbody tr th:only-of-type {\n",
       "        vertical-align: middle;\n",
       "    }\n",
       "\n",
       "    .dataframe tbody tr th {\n",
       "        vertical-align: top;\n",
       "    }\n",
       "\n",
       "    .dataframe thead th {\n",
       "        text-align: right;\n",
       "    }\n",
       "</style>\n",
       "<table border=\"1\" class=\"dataframe\">\n",
       "  <thead>\n",
       "    <tr style=\"text-align: right;\">\n",
       "      <th></th>\n",
       "      <th>Feature</th>\n",
       "      <th>Coefficient</th>\n",
       "    </tr>\n",
       "  </thead>\n",
       "  <tbody>\n",
       "    <tr>\n",
       "      <th>3</th>\n",
       "      <td>overall_qual</td>\n",
       "      <td>19620.538224</td>\n",
       "    </tr>\n",
       "    <tr>\n",
       "      <th>28</th>\n",
       "      <td>bsmt_rating</td>\n",
       "      <td>16966.015122</td>\n",
       "    </tr>\n",
       "    <tr>\n",
       "      <th>14</th>\n",
       "      <td>gr_liv_area</td>\n",
       "      <td>16341.587735</td>\n",
       "    </tr>\n",
       "    <tr>\n",
       "      <th>6</th>\n",
       "      <td>exter_qual</td>\n",
       "      <td>10620.768423</td>\n",
       "    </tr>\n",
       "    <tr>\n",
       "      <th>18</th>\n",
       "      <td>kitchen_qual</td>\n",
       "      <td>7941.942673</td>\n",
       "    </tr>\n",
       "    <tr>\n",
       "      <th>29</th>\n",
       "      <td>bsmt_sf</td>\n",
       "      <td>7663.764418</td>\n",
       "    </tr>\n",
       "    <tr>\n",
       "      <th>20</th>\n",
       "      <td>garage_cars</td>\n",
       "      <td>6957.832824</td>\n",
       "    </tr>\n",
       "    <tr>\n",
       "      <th>21</th>\n",
       "      <td>garage_area</td>\n",
       "      <td>5044.702459</td>\n",
       "    </tr>\n",
       "    <tr>\n",
       "      <th>13</th>\n",
       "      <td>1st_flr_sf</td>\n",
       "      <td>4656.512273</td>\n",
       "    </tr>\n",
       "    <tr>\n",
       "      <th>19</th>\n",
       "      <td>fireplaces</td>\n",
       "      <td>4245.090901</td>\n",
       "    </tr>\n",
       "    <tr>\n",
       "      <th>4</th>\n",
       "      <td>overall_cond</td>\n",
       "      <td>4188.779997</td>\n",
       "    </tr>\n",
       "    <tr>\n",
       "      <th>1</th>\n",
       "      <td>lot_area</td>\n",
       "      <td>3873.276096</td>\n",
       "    </tr>\n",
       "    <tr>\n",
       "      <th>16</th>\n",
       "      <td>bedroom_abvgr</td>\n",
       "      <td>2324.462661</td>\n",
       "    </tr>\n",
       "    <tr>\n",
       "      <th>22</th>\n",
       "      <td>garage_qual</td>\n",
       "      <td>1048.751582</td>\n",
       "    </tr>\n",
       "    <tr>\n",
       "      <th>7</th>\n",
       "      <td>exter_cond</td>\n",
       "      <td>693.545623</td>\n",
       "    </tr>\n",
       "    <tr>\n",
       "      <th>12</th>\n",
       "      <td>central_air</td>\n",
       "      <td>562.400769</td>\n",
       "    </tr>\n",
       "    <tr>\n",
       "      <th>11</th>\n",
       "      <td>total_bsmt_sf</td>\n",
       "      <td>307.361647</td>\n",
       "    </tr>\n",
       "    <tr>\n",
       "      <th>10</th>\n",
       "      <td>bsmt_unf_sf</td>\n",
       "      <td>-0.000000</td>\n",
       "    </tr>\n",
       "    <tr>\n",
       "      <th>24</th>\n",
       "      <td>paved_drive</td>\n",
       "      <td>-232.855472</td>\n",
       "    </tr>\n",
       "    <tr>\n",
       "      <th>15</th>\n",
       "      <td>full_bath</td>\n",
       "      <td>-512.140768</td>\n",
       "    </tr>\n",
       "    <tr>\n",
       "      <th>26</th>\n",
       "      <td>quality</td>\n",
       "      <td>-558.421199</td>\n",
       "    </tr>\n",
       "    <tr>\n",
       "      <th>25</th>\n",
       "      <td>age</td>\n",
       "      <td>-805.825639</td>\n",
       "    </tr>\n",
       "    <tr>\n",
       "      <th>23</th>\n",
       "      <td>garage_cond</td>\n",
       "      <td>-1235.172255</td>\n",
       "    </tr>\n",
       "    <tr>\n",
       "      <th>2</th>\n",
       "      <td>condition_1</td>\n",
       "      <td>-1551.829336</td>\n",
       "    </tr>\n",
       "    <tr>\n",
       "      <th>0</th>\n",
       "      <td>ms_zoning</td>\n",
       "      <td>-2823.480249</td>\n",
       "    </tr>\n",
       "    <tr>\n",
       "      <th>17</th>\n",
       "      <td>kitchen_abvgr</td>\n",
       "      <td>-3520.836261</td>\n",
       "    </tr>\n",
       "    <tr>\n",
       "      <th>8</th>\n",
       "      <td>bsmt_qual</td>\n",
       "      <td>-3828.544610</td>\n",
       "    </tr>\n",
       "    <tr>\n",
       "      <th>9</th>\n",
       "      <td>bsmt_cond</td>\n",
       "      <td>-6460.141500</td>\n",
       "    </tr>\n",
       "    <tr>\n",
       "      <th>27</th>\n",
       "      <td>remod</td>\n",
       "      <td>-19033.692739</td>\n",
       "    </tr>\n",
       "    <tr>\n",
       "      <th>5</th>\n",
       "      <td>year_remod/add</td>\n",
       "      <td>-19152.197000</td>\n",
       "    </tr>\n",
       "  </tbody>\n",
       "</table>\n",
       "</div>"
      ],
      "text/plain": [
       "           Feature   Coefficient\n",
       "3     overall_qual  19620.538224\n",
       "28     bsmt_rating  16966.015122\n",
       "14     gr_liv_area  16341.587735\n",
       "6       exter_qual  10620.768423\n",
       "18    kitchen_qual   7941.942673\n",
       "29         bsmt_sf   7663.764418\n",
       "20     garage_cars   6957.832824\n",
       "21     garage_area   5044.702459\n",
       "13      1st_flr_sf   4656.512273\n",
       "19      fireplaces   4245.090901\n",
       "4     overall_cond   4188.779997\n",
       "1         lot_area   3873.276096\n",
       "16   bedroom_abvgr   2324.462661\n",
       "22     garage_qual   1048.751582\n",
       "7       exter_cond    693.545623\n",
       "12     central_air    562.400769\n",
       "11   total_bsmt_sf    307.361647\n",
       "10     bsmt_unf_sf     -0.000000\n",
       "24     paved_drive   -232.855472\n",
       "15       full_bath   -512.140768\n",
       "26         quality   -558.421199\n",
       "25             age   -805.825639\n",
       "23     garage_cond  -1235.172255\n",
       "2      condition_1  -1551.829336\n",
       "0        ms_zoning  -2823.480249\n",
       "17   kitchen_abvgr  -3520.836261\n",
       "8        bsmt_qual  -3828.544610\n",
       "9        bsmt_cond  -6460.141500\n",
       "27           remod -19033.692739\n",
       "5   year_remod/add -19152.197000"
      ]
     },
     "execution_count": 267,
     "metadata": {},
     "output_type": "execute_result"
    }
   ],
   "source": [
    "coef = zip(X_test.columns, lasso_cv_model.coef_)\n",
    "df_coef = pd.DataFrame(coef, columns=['Feature', 'Coefficient']).sort_values(by='Coefficient', ascending=False)\n",
    "df_coef"
   ]
  },
  {
   "cell_type": "code",
   "execution_count": 268,
   "metadata": {},
   "outputs": [
    {
     "data": {
      "image/png": "[encoded data removed]",
      "text/plain": [
       "<Figure size 864x432 with 1 Axes>"
      ]
     },
     "metadata": {
      "needs_background": "light"
     },
     "output_type": "display_data"
    }
   ],
   "source": [
    "plt.figure(figsize=(12,6))\n",
    "plt.title('How Factors affect Sale Price for the Model')\n",
    "ax = sns.barplot(x='Coefficient', y='Feature', data=df_coef)\n",
    "ax.set(xlabel='Amount ($)', ylabel='Variable Name');"
   ]
  },
  {
   "cell_type": "markdown",
   "metadata": {},
   "source": [
    "## Ridge Model"
   ]
  },
  {
   "cell_type": "code",
   "execution_count": 269,
   "metadata": {},
   "outputs": [],
   "source": [
    "X = df_train_clean[features].copy()\n",
    "y = df_train_clean['saleprice'].copy()"
   ]
  },
  {
   "cell_type": "code",
   "execution_count": 270,
   "metadata": {},
   "outputs": [],
   "source": [
    "X_train, X_test, y_train, y_test = train_test_split (X, y, random_state=42)"
   ]
  },
  {
   "cell_type": "code",
   "execution_count": 271,
   "metadata": {},
   "outputs": [],
   "source": [
    "ss = StandardScaler()\n",
    "ss.fit(X_train)\n",
    "Z_train = ss.transform(X_train)\n",
    "Z_test = ss.transform(X_test)"
   ]
  },
  {
   "cell_type": "code",
   "execution_count": 272,
   "metadata": {},
   "outputs": [
    {
     "data": {
      "text/plain": [
       "Ridge(alpha=100)"
      ]
     },
     "execution_count": 272,
     "metadata": {},
     "output_type": "execute_result"
    }
   ],
   "source": [
    "ridge_model = Ridge(alpha=100)\n",
    "ridge_model.fit(Z_train, y_train)"
   ]
  },
  {
   "cell_type": "code",
   "execution_count": 273,
   "metadata": {},
   "outputs": [
    {
     "name": "stdout",
     "output_type": "stream",
     "text": [
      "Train score  0.8129264030117118\n",
      "Test score   0.8477534433649552\n",
      "Baseline     0.7774600874625521\n"
     ]
    }
   ],
   "source": [
    "calc_scores(ridge_model, Z_train, y_train, Z_test, y_test)"
   ]
  },
  {
   "cell_type": "code",
   "execution_count": 274,
   "metadata": {},
   "outputs": [],
   "source": [
    "y_pred = ridge_model.predict(Z_test)"
   ]
  },
  {
   "cell_type": "code",
   "execution_count": 275,
   "metadata": {},
   "outputs": [
    {
     "name": "stdout",
     "output_type": "stream",
     "text": [
      "RMSE 32045.52555555181\n",
      "MSE  1026915708.131524\n",
      "R2   0.8477534433649552\n",
      "MAE  21164.551613425763\n"
     ]
    }
   ],
   "source": [
    "calc_metrics(y_test, y_pred)"
   ]
  },
  {
   "cell_type": "markdown",
   "metadata": {},
   "source": [
    "#### For 1 unit increase (standard deviation) in gr_liv_area, holding all other variables constant, we can expect the average price of a home to increase by $18,422.  "
   ]
  },
  {
   "cell_type": "markdown",
   "metadata": {},
   "source": [
    "#### For 1 unit increase (standard deviation) in age, holding all other variables constant, we can expect the average price of a home to decrease by $8,638."
   ]
  },
  {
   "cell_type": "code",
   "execution_count": 276,
   "metadata": {},
   "outputs": [
    {
     "data": {
      "text/plain": [
       "188184.5304964539"
      ]
     },
     "execution_count": 276,
     "metadata": {},
     "output_type": "execute_result"
    }
   ],
   "source": [
    "ridge_model.intercept_"
   ]
  },
  {
   "cell_type": "code",
   "execution_count": 277,
   "metadata": {},
   "outputs": [
    {
     "data": {
      "text/html": [
       "<div>\n",
       "<style scoped>\n",
       "    .dataframe tbody tr th:only-of-type {\n",
       "        vertical-align: middle;\n",
       "    }\n",
       "\n",
       "    .dataframe tbody tr th {\n",
       "        vertical-align: top;\n",
       "    }\n",
       "\n",
       "    .dataframe thead th {\n",
       "        text-align: right;\n",
       "    }\n",
       "</style>\n",
       "<table border=\"1\" class=\"dataframe\">\n",
       "  <thead>\n",
       "    <tr style=\"text-align: right;\">\n",
       "      <th></th>\n",
       "      <th>Feature</th>\n",
       "      <th>Coefficient</th>\n",
       "    </tr>\n",
       "  </thead>\n",
       "  <tbody>\n",
       "    <tr>\n",
       "      <th>3</th>\n",
       "      <td>overall_qual</td>\n",
       "      <td>15200.237419</td>\n",
       "    </tr>\n",
       "    <tr>\n",
       "      <th>14</th>\n",
       "      <td>gr_liv_area</td>\n",
       "      <td>14863.418807</td>\n",
       "    </tr>\n",
       "    <tr>\n",
       "      <th>18</th>\n",
       "      <td>kitchen_qual</td>\n",
       "      <td>8340.531051</td>\n",
       "    </tr>\n",
       "    <tr>\n",
       "      <th>20</th>\n",
       "      <td>garage_cars</td>\n",
       "      <td>7655.894424</td>\n",
       "    </tr>\n",
       "    <tr>\n",
       "      <th>8</th>\n",
       "      <td>bsmt_qual</td>\n",
       "      <td>6243.159288</td>\n",
       "    </tr>\n",
       "    <tr>\n",
       "      <th>6</th>\n",
       "      <td>exter_qual</td>\n",
       "      <td>6228.777555</td>\n",
       "    </tr>\n",
       "    <tr>\n",
       "      <th>26</th>\n",
       "      <td>quality</td>\n",
       "      <td>5744.489291</td>\n",
       "    </tr>\n",
       "    <tr>\n",
       "      <th>28</th>\n",
       "      <td>bsmt_rating</td>\n",
       "      <td>4940.048713</td>\n",
       "    </tr>\n",
       "    <tr>\n",
       "      <th>1</th>\n",
       "      <td>lot_area</td>\n",
       "      <td>4720.895210</td>\n",
       "    </tr>\n",
       "    <tr>\n",
       "      <th>19</th>\n",
       "      <td>fireplaces</td>\n",
       "      <td>4573.680132</td>\n",
       "    </tr>\n",
       "    <tr>\n",
       "      <th>21</th>\n",
       "      <td>garage_area</td>\n",
       "      <td>4542.115538</td>\n",
       "    </tr>\n",
       "    <tr>\n",
       "      <th>13</th>\n",
       "      <td>1st_flr_sf</td>\n",
       "      <td>4510.481572</td>\n",
       "    </tr>\n",
       "    <tr>\n",
       "      <th>29</th>\n",
       "      <td>bsmt_sf</td>\n",
       "      <td>3953.260788</td>\n",
       "    </tr>\n",
       "    <tr>\n",
       "      <th>11</th>\n",
       "      <td>total_bsmt_sf</td>\n",
       "      <td>3105.029796</td>\n",
       "    </tr>\n",
       "    <tr>\n",
       "      <th>22</th>\n",
       "      <td>garage_qual</td>\n",
       "      <td>2512.356090</td>\n",
       "    </tr>\n",
       "    <tr>\n",
       "      <th>16</th>\n",
       "      <td>bedroom_abvgr</td>\n",
       "      <td>2350.067880</td>\n",
       "    </tr>\n",
       "    <tr>\n",
       "      <th>4</th>\n",
       "      <td>overall_cond</td>\n",
       "      <td>1118.948530</td>\n",
       "    </tr>\n",
       "    <tr>\n",
       "      <th>12</th>\n",
       "      <td>central_air</td>\n",
       "      <td>873.127661</td>\n",
       "    </tr>\n",
       "    <tr>\n",
       "      <th>15</th>\n",
       "      <td>full_bath</td>\n",
       "      <td>402.608728</td>\n",
       "    </tr>\n",
       "    <tr>\n",
       "      <th>24</th>\n",
       "      <td>paved_drive</td>\n",
       "      <td>-419.565332</td>\n",
       "    </tr>\n",
       "    <tr>\n",
       "      <th>5</th>\n",
       "      <td>year_remod/add</td>\n",
       "      <td>-807.398435</td>\n",
       "    </tr>\n",
       "    <tr>\n",
       "      <th>27</th>\n",
       "      <td>remod</td>\n",
       "      <td>-957.623147</td>\n",
       "    </tr>\n",
       "    <tr>\n",
       "      <th>23</th>\n",
       "      <td>garage_cond</td>\n",
       "      <td>-1067.186992</td>\n",
       "    </tr>\n",
       "    <tr>\n",
       "      <th>25</th>\n",
       "      <td>age</td>\n",
       "      <td>-1122.565272</td>\n",
       "    </tr>\n",
       "    <tr>\n",
       "      <th>2</th>\n",
       "      <td>condition_1</td>\n",
       "      <td>-1345.111320</td>\n",
       "    </tr>\n",
       "    <tr>\n",
       "      <th>10</th>\n",
       "      <td>bsmt_unf_sf</td>\n",
       "      <td>-1360.262203</td>\n",
       "    </tr>\n",
       "    <tr>\n",
       "      <th>7</th>\n",
       "      <td>exter_cond</td>\n",
       "      <td>-1436.055801</td>\n",
       "    </tr>\n",
       "    <tr>\n",
       "      <th>0</th>\n",
       "      <td>ms_zoning</td>\n",
       "      <td>-1827.278128</td>\n",
       "    </tr>\n",
       "    <tr>\n",
       "      <th>9</th>\n",
       "      <td>bsmt_cond</td>\n",
       "      <td>-1990.271937</td>\n",
       "    </tr>\n",
       "    <tr>\n",
       "      <th>17</th>\n",
       "      <td>kitchen_abvgr</td>\n",
       "      <td>-3524.827868</td>\n",
       "    </tr>\n",
       "  </tbody>\n",
       "</table>\n",
       "</div>"
      ],
      "text/plain": [
       "           Feature   Coefficient\n",
       "3     overall_qual  15200.237419\n",
       "14     gr_liv_area  14863.418807\n",
       "18    kitchen_qual   8340.531051\n",
       "20     garage_cars   7655.894424\n",
       "8        bsmt_qual   6243.159288\n",
       "6       exter_qual   6228.777555\n",
       "26         quality   5744.489291\n",
       "28     bsmt_rating   4940.048713\n",
       "1         lot_area   4720.895210\n",
       "19      fireplaces   4573.680132\n",
       "21     garage_area   4542.115538\n",
       "13      1st_flr_sf   4510.481572\n",
       "29         bsmt_sf   3953.260788\n",
       "11   total_bsmt_sf   3105.029796\n",
       "22     garage_qual   2512.356090\n",
       "16   bedroom_abvgr   2350.067880\n",
       "4     overall_cond   1118.948530\n",
       "12     central_air    873.127661\n",
       "15       full_bath    402.608728\n",
       "24     paved_drive   -419.565332\n",
       "5   year_remod/add   -807.398435\n",
       "27           remod   -957.623147\n",
       "23     garage_cond  -1067.186992\n",
       "25             age  -1122.565272\n",
       "2      condition_1  -1345.111320\n",
       "10     bsmt_unf_sf  -1360.262203\n",
       "7       exter_cond  -1436.055801\n",
       "0        ms_zoning  -1827.278128\n",
       "9        bsmt_cond  -1990.271937\n",
       "17   kitchen_abvgr  -3524.827868"
      ]
     },
     "execution_count": 277,
     "metadata": {},
     "output_type": "execute_result"
    }
   ],
   "source": [
    "coef = zip(X_test.columns, ridge_model.coef_)\n",
    "df_coef = pd.DataFrame(coef, columns=['Feature', 'Coefficient']).sort_values(by='Coefficient', ascending=False)\n",
    "df_coef"
   ]
  },
  {
   "cell_type": "code",
   "execution_count": 278,
   "metadata": {},
   "outputs": [
    {
     "data": {
      "image/png": "[encoded data removed]",
      "text/plain": [
       "<Figure size 864x432 with 1 Axes>"
      ]
     },
     "metadata": {
      "needs_background": "light"
     },
     "output_type": "display_data"
    }
   ],
   "source": [
    "plt.figure(figsize=(12,6))\n",
    "plt.title('How Factors affect Sale Price for the Model')\n",
    "ax = sns.barplot(x='Coefficient', y='Feature', data=df_coef)\n",
    "ax.set(xlabel='Amount ($)', ylabel='Variable Name');"
   ]
  },
  {
   "cell_type": "code",
   "execution_count": null,
   "metadata": {},
   "outputs": [],
   "source": []
  }
 ],
 "metadata": {
  "kernelspec": {
   "display_name": "Python 3",
   "language": "python",
   "name": "python3"
  },
  "language_info": {
   "codemirror_mode": {
    "name": "ipython",
    "version": 3
   },
   "file_extension": ".py",
   "mimetype": "text/x-python",
   "name": "python",
   "nbconvert_exporter": "python",
   "pygments_lexer": "ipython3",
   "version": "3.8.3"
  }
 },
 "nbformat": 4,
 "nbformat_minor": 4
}
